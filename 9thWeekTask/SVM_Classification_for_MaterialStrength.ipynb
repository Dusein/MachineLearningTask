{
  "nbformat": 4,
  "nbformat_minor": 0,
  "metadata": {
    "colab": {
      "provenance": [],
      "authorship_tag": "ABX9TyPcYHIyJMqA7ry81QPaMrY/",
      "include_colab_link": true
    },
    "kernelspec": {
      "name": "python3",
      "display_name": "Python 3"
    },
    "language_info": {
      "name": "python"
    }
  },
  "cells": [
    {
      "cell_type": "markdown",
      "metadata": {
        "id": "view-in-github",
        "colab_type": "text"
      },
      "source": [
        "<a href=\"https://colab.research.google.com/github/Dusein/MachineLearningTask/blob/main/9thWeekTask/SVM_Classification_for_MaterialStrength.ipynb\" target=\"_parent\"><img src=\"https://colab.research.google.com/assets/colab-badge.svg\" alt=\"Open In Colab\"/></a>"
      ]
    },
    {
      "cell_type": "code",
      "execution_count": 1,
      "metadata": {
        "id": "D9tzed7nQzJG"
      },
      "outputs": [],
      "source": [
        "import pandas as pd\n",
        "import numpy as np\n",
        "import matplotlib.pylab as plt\n",
        "import seaborn as sns"
      ]
    },
    {
      "cell_type": "code",
      "source": [
        "from google.colab import drive\n",
        "drive.mount('/content/drive')"
      ],
      "metadata": {
        "colab": {
          "base_uri": "https://localhost:8080/"
        },
        "id": "fSeyaP6XQ2qA",
        "outputId": "9e07b9a0-692f-4791-edcf-f7d1f370a7a7"
      },
      "execution_count": 2,
      "outputs": [
        {
          "output_type": "stream",
          "name": "stdout",
          "text": [
            "Mounted at /content/drive\n"
          ]
        }
      ]
    },
    {
      "cell_type": "code",
      "source": [
        "# Ganti 'your_file_path' dengan path sebenarnya ke file CSV Anda di Google Drive\n",
        "file_path = '/content/drive/My Drive/Dataset/MaterialStrength.csv'\n",
        "\n",
        "# Membaca file CSV ke dalam DataFrame\n",
        "dataset = pd.read_csv(file_path)\n",
        "\n",
        "# Menampilkan beberapa baris pertama dari DataFrame\n",
        "print(dataset.head())"
      ],
      "metadata": {
        "colab": {
          "base_uri": "https://localhost:8080/"
        },
        "id": "-qteD6RdQ4aK",
        "outputId": "418f3d5f-8851-4d81-ac5e-80623df14b35"
      },
      "execution_count": 4,
      "outputs": [
        {
          "output_type": "stream",
          "name": "stdout",
          "text": [
            "      x1     x2   x3     x4   x5      x6     x7   x8        x9    x10  \\\n",
            "0  540.0    0.0  0.0  162.0  2.5  1040.0  676.0   28  0.300000  540.0   \n",
            "1  540.0    0.0  0.0  162.0  2.5  1055.0  676.0   28  0.300000  540.0   \n",
            "2  332.5  142.5  0.0  228.0  0.0   932.0  594.0  270  0.685714  475.0   \n",
            "3  332.5  142.5  0.0  228.0  0.0   932.0  594.0  365  0.685714  475.0   \n",
            "4  198.6  132.4  0.0  192.0  0.0   978.4  825.5  360  0.966767  331.0   \n",
            "\n",
            "        x11  x12       x13  x14  x15  target_feature  \n",
            "0  1.538462    1  0.350044  YEs   NO           79.99  \n",
            "1  1.560651    1  0.452416  yES  nOO           61.89  \n",
            "2  1.569024    0  6.704743  yEs   NO           40.27  \n",
            "3  1.569024    0  8.891596  yes  NOO           41.05  \n",
            "4  1.185221    0  8.126411  YeS   no           44.30  \n"
          ]
        }
      ]
    },
    {
      "cell_type": "code",
      "source": [
        "# Memeriksa distribusi nilai dalam kolom target_feature\n",
        "dataset['target_feature'].describe(), dataset['target_feature'].value_counts()\n"
      ],
      "metadata": {
        "colab": {
          "base_uri": "https://localhost:8080/"
        },
        "id": "VELY_KTwR33u",
        "outputId": "06fc18ea-0235-4b5a-882a-a89e73579c68"
      },
      "execution_count": 5,
      "outputs": [
        {
          "output_type": "execute_result",
          "data": {
            "text/plain": [
              "(count    1030.000000\n",
              " mean       35.817961\n",
              " std        16.705742\n",
              " min         2.330000\n",
              " 25%        23.710000\n",
              " 50%        34.445000\n",
              " 75%        46.135000\n",
              " max        82.600000\n",
              " Name: target_feature, dtype: float64,\n",
              " target_feature\n",
              " 33.40    6\n",
              " 77.30    4\n",
              " 79.30    4\n",
              " 31.35    4\n",
              " 71.30    4\n",
              "         ..\n",
              " 47.40    1\n",
              " 51.96    1\n",
              " 56.74    1\n",
              " 17.57    1\n",
              " 32.77    1\n",
              " Name: count, Length: 845, dtype: int64)"
            ]
          },
          "metadata": {},
          "execution_count": 5
        }
      ]
    },
    {
      "cell_type": "code",
      "source": [
        "import numpy as np\n",
        "\n",
        "# Mengkategorikan target_feature menjadi 3 kelas berdasarkan distribusi kuantil\n",
        "bins = [dataset['target_feature'].min(), 25, 50, dataset['target_feature'].max()]\n",
        "labels = ['Low', 'Medium', 'High']\n",
        "dataset['target_class'] = pd.cut(dataset['target_feature'], bins=bins, labels=labels)\n",
        "\n",
        "# Memeriksa distribusi kategori baru\n",
        "dataset['target_class'].value_counts()\n"
      ],
      "metadata": {
        "colab": {
          "base_uri": "https://localhost:8080/",
          "height": 209
        },
        "id": "FsdAPDiaR_FF",
        "outputId": "09ac92ee-ae84-40ee-d504-21546c42fa51"
      },
      "execution_count": 6,
      "outputs": [
        {
          "output_type": "execute_result",
          "data": {
            "text/plain": [
              "target_class\n",
              "Medium    525\n",
              "Low       294\n",
              "High      210\n",
              "Name: count, dtype: int64"
            ],
            "text/html": [
              "<div>\n",
              "<style scoped>\n",
              "    .dataframe tbody tr th:only-of-type {\n",
              "        vertical-align: middle;\n",
              "    }\n",
              "\n",
              "    .dataframe tbody tr th {\n",
              "        vertical-align: top;\n",
              "    }\n",
              "\n",
              "    .dataframe thead th {\n",
              "        text-align: right;\n",
              "    }\n",
              "</style>\n",
              "<table border=\"1\" class=\"dataframe\">\n",
              "  <thead>\n",
              "    <tr style=\"text-align: right;\">\n",
              "      <th></th>\n",
              "      <th>count</th>\n",
              "    </tr>\n",
              "    <tr>\n",
              "      <th>target_class</th>\n",
              "      <th></th>\n",
              "    </tr>\n",
              "  </thead>\n",
              "  <tbody>\n",
              "    <tr>\n",
              "      <th>Medium</th>\n",
              "      <td>525</td>\n",
              "    </tr>\n",
              "    <tr>\n",
              "      <th>Low</th>\n",
              "      <td>294</td>\n",
              "    </tr>\n",
              "    <tr>\n",
              "      <th>High</th>\n",
              "      <td>210</td>\n",
              "    </tr>\n",
              "  </tbody>\n",
              "</table>\n",
              "</div><br><label><b>dtype:</b> int64</label>"
            ]
          },
          "metadata": {},
          "execution_count": 6
        }
      ]
    },
    {
      "cell_type": "code",
      "source": [
        "# Memeriksa nilai NaN\n",
        "print(dataset.isnull().sum())\n"
      ],
      "metadata": {
        "colab": {
          "base_uri": "https://localhost:8080/"
        },
        "id": "szkTCjOzUA2Q",
        "outputId": "3226d5f3-1df9-47a9-d09a-0a546a6db151"
      },
      "execution_count": 10,
      "outputs": [
        {
          "output_type": "stream",
          "name": "stdout",
          "text": [
            "x1                0\n",
            "x2                0\n",
            "x3                0\n",
            "x4                0\n",
            "x5                0\n",
            "x6                0\n",
            "x7                0\n",
            "x8                0\n",
            "x9                0\n",
            "x10               0\n",
            "x11               0\n",
            "x12               0\n",
            "x13               0\n",
            "x14               0\n",
            "x15               0\n",
            "target_feature    0\n",
            "target_class      1\n",
            "dtype: int64\n"
          ]
        }
      ]
    },
    {
      "cell_type": "code",
      "source": [
        "# Menghapus baris dengan nilai NaN pada kolom 'target_class'\n",
        "dataset = dataset.dropna(subset=['target_class'])\n",
        "\n",
        "# Memeriksa kembali apakah masih ada nilai NaN pada kolom 'target_class'\n",
        "print(dataset['target_class'].isnull().sum())\n"
      ],
      "metadata": {
        "colab": {
          "base_uri": "https://localhost:8080/"
        },
        "id": "omRpyTjDUvKI",
        "outputId": "722d4205-886c-493c-bdf1-9889a63dfe0c"
      },
      "execution_count": 12,
      "outputs": [
        {
          "output_type": "stream",
          "name": "stdout",
          "text": [
            "0\n"
          ]
        }
      ]
    },
    {
      "cell_type": "code",
      "source": [
        "from sklearn.model_selection import train_test_split\n",
        "from sklearn.preprocessing import StandardScaler, LabelEncoder\n",
        "\n",
        "# Memisahkan fitur (X) dan target (y)\n",
        "X = dataset.drop(columns=['target_feature', 'target_class', 'x14', 'x15'])  # Menghapus target dan fitur kategorikal\n",
        "y = dataset['target_class']\n",
        "\n",
        "# Encoding target label\n",
        "label_encoder = LabelEncoder()\n",
        "y_encoded = label_encoder.fit_transform(y)\n",
        "\n",
        "# Membagi dataset menjadi data latih dan uji\n",
        "X_train, X_test, y_train, y_test = train_test_split(X, y_encoded, test_size=0.2, random_state=42, stratify=y)\n",
        "\n",
        "# Standarisasi fitur numerik\n",
        "scaler = StandardScaler()\n",
        "X_train_scaled = scaler.fit_transform(X_train)\n",
        "X_test_scaled = scaler.transform(X_test)\n",
        "\n",
        "X_train_scaled.shape, X_test_scaled.shape\n"
      ],
      "metadata": {
        "colab": {
          "base_uri": "https://localhost:8080/"
        },
        "id": "OaTZiogsSHRx",
        "outputId": "95439b37-7904-440f-8a0a-cac570c0bd5a"
      },
      "execution_count": 13,
      "outputs": [
        {
          "output_type": "execute_result",
          "data": {
            "text/plain": [
              "((823, 13), (206, 13))"
            ]
          },
          "metadata": {},
          "execution_count": 13
        }
      ]
    },
    {
      "cell_type": "code",
      "source": [
        "from sklearn.svm import SVC\n",
        "from sklearn.metrics import classification_report\n",
        "\n",
        "# Membuat model SVM dengan kernel linear\n",
        "svm_model = SVC(kernel='linear', random_state=42)\n",
        "\n",
        "# Melatih model pada data latih\n",
        "svm_model.fit(X_train_scaled, y_train)\n",
        "\n",
        "# Memprediksi data uji\n",
        "y_pred = svm_model.predict(X_test_scaled)\n",
        "\n",
        "# Menampilkan classification report\n",
        "report = classification_report(y_test, y_pred, target_names=label_encoder.classes_)\n",
        "print(\"Classification Report:\\n\", report)\n"
      ],
      "metadata": {
        "colab": {
          "base_uri": "https://localhost:8080/"
        },
        "id": "BZisaJTuVBBW",
        "outputId": "e37df170-caf9-44e6-9e1b-1a507052e583"
      },
      "execution_count": 15,
      "outputs": [
        {
          "output_type": "stream",
          "name": "stdout",
          "text": [
            "Classification Report:\n",
            "               precision    recall  f1-score   support\n",
            "\n",
            "        High       0.85      0.83      0.84        42\n",
            "         Low       0.91      0.90      0.91        59\n",
            "      Medium       0.88      0.90      0.89       105\n",
            "\n",
            "    accuracy                           0.88       206\n",
            "   macro avg       0.88      0.88      0.88       206\n",
            "weighted avg       0.88      0.88      0.88       206\n",
            "\n"
          ]
        }
      ]
    },
    {
      "cell_type": "code",
      "source": [
        "from sklearn.metrics import confusion_matrix, ConfusionMatrixDisplay\n",
        "import matplotlib.pyplot as plt\n",
        "\n",
        "# Menghitung confusion matrix\n",
        "conf_matrix = confusion_matrix(y_test, y_pred)\n",
        "\n",
        "# Menampilkan confusion matrix dalam bentuk grafik\n",
        "disp = ConfusionMatrixDisplay(confusion_matrix=conf_matrix, display_labels=label_encoder.classes_)\n",
        "disp.plot(cmap='Blues')\n",
        "plt.title(\"Confusion Matrix\")\n",
        "plt.show()\n"
      ],
      "metadata": {
        "colab": {
          "base_uri": "https://localhost:8080/",
          "height": 472
        },
        "id": "f7NqnmslVfk5",
        "outputId": "8d071e60-d147-4ab1-ecd3-f469f4e48960"
      },
      "execution_count": 16,
      "outputs": [
        {
          "output_type": "display_data",
          "data": {
            "text/plain": [
              "<Figure size 640x480 with 2 Axes>"
            ],
            "image/png": "[encoded data removed]"
          },
          "metadata": {}
        }
      ]
    }
  ]
}