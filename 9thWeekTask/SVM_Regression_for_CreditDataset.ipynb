{
  "nbformat": 4,
  "nbformat_minor": 0,
  "metadata": {
    "colab": {
      "provenance": [],
      "authorship_tag": "ABX9TyORjr9A8w0jl/wV3jsWAwFf",
      "include_colab_link": true
    },
    "kernelspec": {
      "name": "python3",
      "display_name": "Python 3"
    },
    "language_info": {
      "name": "python"
    }
  },
  "cells": [
    {
      "cell_type": "markdown",
      "metadata": {
        "id": "view-in-github",
        "colab_type": "text"
      },
      "source": [
        "<a href=\"https://colab.research.google.com/github/Dusein/MachineLearningTask/blob/main/9thWeekTask/SVM_Regression_for_CreditDataset.ipynb\" target=\"_parent\"><img src=\"https://colab.research.google.com/assets/colab-badge.svg\" alt=\"Open In Colab\"/></a>"
      ]
    },
    {
      "cell_type": "code",
      "source": [
        "import pandas as pd\n",
        "import numpy as np\n",
        "import matplotlib.pylab as plt\n",
        "import seaborn as sns"
      ],
      "metadata": {
        "id": "juobpenQO-PF"
      },
      "execution_count": 3,
      "outputs": []
    },
    {
      "cell_type": "code",
      "execution_count": 1,
      "metadata": {
        "colab": {
          "base_uri": "https://localhost:8080/"
        },
        "id": "ydyUprXXNmEO",
        "outputId": "3f747bd0-9fdc-4cdf-d4c4-68538332d783"
      },
      "outputs": [
        {
          "output_type": "stream",
          "name": "stdout",
          "text": [
            "Mounted at /content/drive\n"
          ]
        }
      ],
      "source": [
        "from google.colab import drive\n",
        "drive.mount('/content/drive')"
      ]
    },
    {
      "cell_type": "code",
      "source": [
        "# Ganti 'your_file_path' dengan path sebenarnya ke file CSV Anda di Google Drive\n",
        "file_path = '/content/drive/My Drive/Dataset/CreditDataset.csv'\n",
        "\n",
        "# Membaca file CSV ke dalam DataFrame\n",
        "data = pd.read_csv(file_path)\n",
        "\n",
        "# Menampilkan beberapa baris pertama dari DataFrame\n",
        "print(df.head())"
      ],
      "metadata": {
        "colab": {
          "base_uri": "https://localhost:8080/"
        },
        "id": "fVSzKcq7Owu0",
        "outputId": "e66a51e9-4f9c-460d-af48-d8a0663fb853"
      },
      "execution_count": 5,
      "outputs": [
        {
          "output_type": "stream",
          "name": "stdout",
          "text": [
            "    x1  x2   x3   x4    x5   x6   x7  x8   x9   x10  ...   x12 x13   x14  \\\n",
            "0  A11   6  A34  A43  1169  A65  A75   4  A93  A101  ...  A121  67  A143   \n",
            "1  A12  48  A32  A43  5951  A61  A73   2  A92  A101  ...  A121  22  A143   \n",
            "2  A14  12  A34  A46  2096  A61  A74   2  A93  A101  ...  A121  49  A143   \n",
            "3  A11  42  A32  A42  7882  A61  A74   2  A93  A103  ...  A122  45  A143   \n",
            "4  A11  24  A33  A40  4870  A61  A73   3  A93  A101  ...  A124  53  A143   \n",
            "\n",
            "    x15 x16   x17 x18   x19   x20 Class  \n",
            "0  A152   2  A173   1  A192  A201     1  \n",
            "1  A152   1  A173   1  A191  A201     2  \n",
            "2  A152   1  A172   2  A191  A201     1  \n",
            "3  A153   1  A173   2  A191  A201     1  \n",
            "4  A153   2  A173   2  A191  A201     2  \n",
            "\n",
            "[5 rows x 21 columns]\n"
          ]
        }
      ]
    },
    {
      "cell_type": "code",
      "source": [
        "from sklearn.model_selection import train_test_split\n",
        "from sklearn.preprocessing import LabelEncoder, StandardScaler\n",
        "\n",
        "# Encode categorical features\n",
        "categorical_columns = data.select_dtypes(include=['object']).columns\n",
        "encoder = LabelEncoder()\n",
        "\n",
        "for col in categorical_columns:\n",
        "    data[col] = encoder.fit_transform(data[col])\n",
        "\n",
        "# Split features and target\n",
        "X = data.drop('Class', axis=1)\n",
        "y = data['Class']\n",
        "\n",
        "# Normalize features\n",
        "scaler = StandardScaler()\n",
        "X_scaled = scaler.fit_transform(X)\n",
        "\n",
        "# Split data into training and testing sets\n",
        "X_train, X_test, y_train, y_test = train_test_split(X_scaled, y, test_size=0.2, random_state=42)\n",
        "\n",
        "X_train.shape, X_test.shape, y_train.shape, y_test.shape\n"
      ],
      "metadata": {
        "colab": {
          "base_uri": "https://localhost:8080/"
        },
        "id": "oN1Aj1L-PEl1",
        "outputId": "6e3803cb-5688-46ea-9955-b7c89cd1df89"
      },
      "execution_count": 6,
      "outputs": [
        {
          "output_type": "execute_result",
          "data": {
            "text/plain": [
              "((800, 20), (200, 20), (800,), (200,))"
            ]
          },
          "metadata": {},
          "execution_count": 6
        }
      ]
    },
    {
      "cell_type": "code",
      "source": [
        "from sklearn.svm import SVR\n",
        "from sklearn.metrics import confusion_matrix, classification_report\n",
        "\n",
        "# Buat model SVM Regression\n",
        "svm_regressor = SVR(kernel='rbf')  # Kernel RBF digunakan untuk menangkap pola non-linear\n",
        "svm_regressor.fit(X_train, y_train)\n",
        "\n",
        "# Prediksi pada data uji\n",
        "y_pred = svm_regressor.predict(X_test)\n",
        "\n",
        "# Karena SVM Regression memberikan prediksi kontinu, kita bulatkan ke nilai diskrit (1 atau 2)\n",
        "y_pred_rounded = [round(pred) for pred in y_pred]\n",
        "\n",
        "# Buat confusion matrix dan classification report\n",
        "conf_matrix = confusion_matrix(y_test, y_pred_rounded)\n",
        "class_report = classification_report(y_test, y_pred_rounded)\n",
        "\n",
        "# conf_matrix, class_report\n",
        "from sklearn.metrics import classification_report\n",
        "\n",
        "# Pisahkan dan cetak classification report dengan format rapi\n",
        "print(\"Classification Report:\")\n",
        "print(\"=\" * 22)\n",
        "\n",
        "report_lines = class_report.split(\"\\n\")\n",
        "print(f\"{'Class':<15}{'Precision':<10}{'Recall':<10}{'F1-Score':<10}{'Support':<10}\")\n",
        "print(\"-\" * 50)\n",
        "\n",
        "# Cetak baris per baris untuk masing-masing kelas\n",
        "for line in report_lines[2:-3]:  # Bagian ini memuat kelas 1 dan 2\n",
        "    if line.strip():\n",
        "        print(line)\n",
        "\n",
        "# Tambahkan baris untuk 'macro avg' dan 'weighted avg'\n",
        "for line in report_lines[-3:-1]:  # Bagian ini memuat avg statistik\n",
        "    if line.strip():\n",
        "        print(line)\n",
        "\n",
        "print(\"=\" * 50)\n"
      ],
      "metadata": {
        "colab": {
          "base_uri": "https://localhost:8080/"
        },
        "id": "b-O9D8NfPNMr",
        "outputId": "91ee230c-ac80-4c48-fe36-a30e2593dd57"
      },
      "execution_count": 11,
      "outputs": [
        {
          "output_type": "stream",
          "name": "stdout",
          "text": [
            "Classification Report:\n",
            "======================\n",
            "Class          Precision Recall    F1-Score  Support   \n",
            "--------------------------------------------------\n",
            "           1       0.82      0.92      0.87       141\n",
            "           2       0.73      0.51      0.60        59\n",
            "    accuracy                           0.80       200\n",
            "   macro avg       0.77      0.72      0.73       200\n",
            "weighted avg       0.79      0.80      0.79       200\n",
            "==================================================\n"
          ]
        }
      ]
    },
    {
      "cell_type": "code",
      "source": [
        "import seaborn as sns\n",
        "import matplotlib.pyplot as plt\n",
        "\n",
        "# Visualisasi Confusion Matrix\n",
        "plt.figure(figsize=(8, 6))\n",
        "sns.heatmap(conf_matrix, annot=True, fmt='d', cmap='Blues', xticklabels=[1, 2], yticklabels=[1, 2])\n",
        "plt.xlabel('Predicted Labels')\n",
        "plt.ylabel('True Labels')\n",
        "plt.title('Confusion Matrix')\n",
        "plt.show()\n"
      ],
      "metadata": {
        "colab": {
          "base_uri": "https://localhost:8080/",
          "height": 564
        },
        "id": "CEOHIJ_VPhGy",
        "outputId": "92b48e38-e360-4c51-c80b-63a2ef3cdde6"
      },
      "execution_count": 9,
      "outputs": [
        {
          "output_type": "display_data",
          "data": {
            "text/plain": [
              "<Figure size 800x600 with 2 Axes>"
            ],
            "image/png": "[encoded data removed]"
          },
          "metadata": {}
        }
      ]
    }
  ]
}