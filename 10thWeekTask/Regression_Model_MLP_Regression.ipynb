{
  "nbformat": 4,
  "nbformat_minor": 0,
  "metadata": {
    "colab": {
      "provenance": [],
      "gpuType": "T4",
      "authorship_tag": "ABX9TyNu+Kqq2iGAvOygV9SlzCDy",
      "include_colab_link": true
    },
    "kernelspec": {
      "name": "python3",
      "display_name": "Python 3"
    },
    "language_info": {
      "name": "python"
    },
    "accelerator": "GPU"
  },
  "cells": [
    {
      "cell_type": "markdown",
      "metadata": {
        "id": "view-in-github",
        "colab_type": "text"
      },
      "source": [
        "<a href=\"https://colab.research.google.com/github/Dusein/MachineLearningTask/blob/main/10thWeekTask/Regression_Model_MLP_Regression.ipynb\" target=\"_parent\"><img src=\"https://colab.research.google.com/assets/colab-badge.svg\" alt=\"Open In Colab\"/></a>"
      ]
    },
    {
      "cell_type": "code",
      "source": [
        "# Import library dan setup dataset\n",
        "import torch\n",
        "import torch.nn as nn\n",
        "import torch.optim as optim\n",
        "from torch.utils.data import DataLoader, TensorDataset\n",
        "import pandas as pd\n",
        "from sklearn.model_selection import train_test_split\n",
        "from sklearn.preprocessing import MinMaxScaler"
      ],
      "metadata": {
        "id": "W61zbbFa2J6R"
      },
      "execution_count": 11,
      "outputs": []
    },
    {
      "cell_type": "code",
      "execution_count": 2,
      "metadata": {
        "colab": {
          "base_uri": "https://localhost:8080/"
        },
        "id": "nJKsse5n11Rn",
        "outputId": "988ad1a3-798d-4a75-8c08-2ffc5b0331cf"
      },
      "outputs": [
        {
          "output_type": "stream",
          "name": "stdout",
          "text": [
            "Mounted at /content/drive\n"
          ]
        }
      ],
      "source": [
        "from google.colab import drive\n",
        "drive.mount('/content/drive')"
      ]
    },
    {
      "cell_type": "code",
      "source": [
        "# Ganti 'your_file_path' dengan path sebenarnya ke file CSV Anda di Google Drive\n",
        "file_path = '/content/drive/My Drive/Dataset/ENB2012_data.xlsx'\n",
        "\n",
        "# Membaca file CSV ke dalam DataFrame\n",
        "data = pd.read_excel(file_path)\n",
        "\n",
        "# Menampilkan beberapa baris pertama dari DataFrame\n",
        "print(data.head())"
      ],
      "metadata": {
        "colab": {
          "base_uri": "https://localhost:8080/"
        },
        "id": "HTeVobDn1_OS",
        "outputId": "0f89a3ec-1857-413e-96c7-bbe63079e3ad"
      },
      "execution_count": 3,
      "outputs": [
        {
          "output_type": "stream",
          "name": "stdout",
          "text": [
            "     X1     X2     X3      X4   X5  X6   X7  X8     Y1     Y2\n",
            "0  0.98  514.5  294.0  110.25  7.0   2  0.0   0  15.55  21.33\n",
            "1  0.98  514.5  294.0  110.25  7.0   3  0.0   0  15.55  21.33\n",
            "2  0.98  514.5  294.0  110.25  7.0   4  0.0   0  15.55  21.33\n",
            "3  0.98  514.5  294.0  110.25  7.0   5  0.0   0  15.55  21.33\n",
            "4  0.90  563.5  318.5  122.50  7.0   2  0.0   0  20.84  28.28\n"
          ]
        }
      ]
    },
    {
      "cell_type": "code",
      "source": [
        "from sklearn.model_selection import train_test_split\n",
        "from sklearn.preprocessing import MinMaxScaler\n",
        "\n",
        "# Separate features (X) and target (Y)\n",
        "X = data.iloc[:, :-2].values  # X1 to X8\n",
        "Y = data.iloc[:, -2:].values  # Y1 and Y2\n",
        "\n",
        "# Normalize features using MinMaxScaler\n",
        "scaler = MinMaxScaler()\n",
        "X_scaled = scaler.fit_transform(X)\n",
        "\n",
        "# Split data into train and test sets\n",
        "X_train, X_test, Y_train, Y_test = train_test_split(X_scaled, Y, test_size=0.2, random_state=42)\n",
        "\n",
        "# Display the shapes of the splits\n",
        "X_train.shape, X_test.shape, Y_train.shape, Y_test.shape\n",
        "\n",
        "# Konversi data ke format PyTorch\n",
        "X_train_tensor = torch.FloatTensor(X_train)\n",
        "Y_train_tensor = torch.FloatTensor(Y_train)\n",
        "X_test_tensor = torch.FloatTensor(X_test)\n",
        "Y_test_tensor = torch.FloatTensor(Y_test)\n",
        "\n",
        "# Dataset PyTorch\n",
        "train_dataset = TensorDataset(X_train_tensor, Y_train_tensor)\n"
      ],
      "metadata": {
        "id": "JNgzCclO2jR1"
      },
      "execution_count": 7,
      "outputs": []
    },
    {
      "cell_type": "code",
      "source": [
        "# Definisi MLP Regression\n",
        "class MLPRegression(nn.Module):\n",
        "    def __init__(self, input_size, hidden_layers, neurons, activation_fn):\n",
        "        super(MLPRegression, self).__init__()\n",
        "        layers = []\n",
        "        current_size = input_size\n",
        "\n",
        "        for _ in range(hidden_layers):\n",
        "            layers.append(nn.Linear(current_size, neurons))\n",
        "            layers.append(activation_fn)\n",
        "            current_size = neurons\n",
        "\n",
        "        layers.append(nn.Linear(current_size, 2))  # Output size = 2\n",
        "        self.network = nn.Sequential(*layers)\n",
        "\n",
        "    def forward(self, x):\n",
        "        return self.network(x)\n"
      ],
      "metadata": {
        "id": "LTdu6f992zT9"
      },
      "execution_count": 15,
      "outputs": []
    },
    {
      "cell_type": "code",
      "source": [
        "# Parameter eksperimen\n",
        "hidden_layer_options = [1, 2, 3]\n",
        "\n",
        "# Eksperimen Hidden Layers\n",
        "results_hidden_layers = []\n",
        "criterion = nn.MSELoss()\n",
        "\n",
        "for hidden_layers in hidden_layer_options:\n",
        "    # Inisialisasi model\n",
        "    model = MLPRegression(input_size=8, hidden_layers=hidden_layers, neurons=8, activation_fn=nn.ReLU())\n",
        "    optimizer = optim.Adam(model.parameters(), lr=0.001)\n",
        "    train_loader = DataLoader(train_dataset, batch_size=32, shuffle=True)\n",
        "\n",
        "    # Latihan\n",
        "    model.train()\n",
        "    for epoch in range(50):\n",
        "        for batch_X, batch_Y in train_loader:\n",
        "            optimizer.zero_grad()\n",
        "            outputs = model(batch_X)\n",
        "            loss = criterion(outputs, batch_Y)\n",
        "            loss.backward()\n",
        "            optimizer.step()\n",
        "\n",
        "    # Evaluasi\n",
        "    model.eval()\n",
        "    with torch.no_grad():\n",
        "        predictions = model(X_test_tensor)\n",
        "        test_loss = criterion(predictions, Y_test_tensor).item()\n",
        "        results_hidden_layers.append({\"hidden_layers\": hidden_layers, \"test_loss\": test_loss})\n",
        "\n",
        "# Cetak hasil\n",
        "print(\"Hasil eksperimen jumlah hidden layers:\")\n",
        "for result in results_hidden_layers:\n",
        "    print(result)\n"
      ],
      "metadata": {
        "colab": {
          "base_uri": "https://localhost:8080/"
        },
        "id": "7XJG-bkLBYLm",
        "outputId": "10f861c3-cb37-4ab3-d46d-7e36c1e62624"
      },
      "execution_count": 12,
      "outputs": [
        {
          "output_type": "stream",
          "name": "stdout",
          "text": [
            "Hasil eksperimen jumlah hidden layers:\n",
            "{'hidden_layers': 1, 'test_loss': 40.264373779296875}\n",
            "{'hidden_layers': 2, 'test_loss': 18.112119674682617}\n",
            "{'hidden_layers': 3, 'test_loss': 14.262744903564453}\n"
          ]
        }
      ]
    },
    {
      "cell_type": "code",
      "source": [
        "# Parameter eksperimen\n",
        "neuron_options = [4, 8, 16, 32, 64]\n",
        "\n",
        "# Eksperimen Jumlah Neuron\n",
        "results_neurons = []\n",
        "\n",
        "for neurons in neuron_options:\n",
        "    model = MLPRegression(input_size=8, hidden_layers=2, neurons=neurons, activation_fn=nn.ReLU())\n",
        "    optimizer = optim.Adam(model.parameters(), lr=0.001)\n",
        "    train_loader = DataLoader(train_dataset, batch_size=32, shuffle=True)\n",
        "\n",
        "    # Latihan\n",
        "    model.train()\n",
        "    for epoch in range(50):\n",
        "        for batch_X, batch_Y in train_loader:\n",
        "            optimizer.zero_grad()\n",
        "            outputs = model(batch_X)\n",
        "            loss = criterion(outputs, batch_Y)\n",
        "            loss.backward()\n",
        "            optimizer.step()\n",
        "\n",
        "    # Evaluasi\n",
        "    model.eval()\n",
        "    with torch.no_grad():\n",
        "        predictions = model(X_test_tensor)\n",
        "        test_loss = criterion(predictions, Y_test_tensor).item()\n",
        "        results_neurons.append({\"neurons\": neurons, \"test_loss\": test_loss})\n",
        "\n",
        "# Cetak hasil\n",
        "print(\"Hasil eksperimen jumlah neurons:\")\n",
        "for result in results_neurons:\n",
        "    print(result)\n"
      ],
      "metadata": {
        "colab": {
          "base_uri": "https://localhost:8080/"
        },
        "id": "DyUHR7RjBczE",
        "outputId": "0d245cbc-25f5-4feb-cb36-2d38e63d7326"
      },
      "execution_count": 13,
      "outputs": [
        {
          "output_type": "stream",
          "name": "stdout",
          "text": [
            "Hasil eksperimen jumlah neurons:\n",
            "{'neurons': 4, 'test_loss': 630.0354614257812}\n",
            "{'neurons': 8, 'test_loss': 13.341109275817871}\n",
            "{'neurons': 16, 'test_loss': 12.234487533569336}\n",
            "{'neurons': 32, 'test_loss': 11.397029876708984}\n",
            "{'neurons': 64, 'test_loss': 10.528437614440918}\n"
          ]
        }
      ]
    },
    {
      "cell_type": "code",
      "source": [
        "# Parameter eksperimen\n",
        "activation_functions = {\n",
        "    \"linear\": nn.Identity(),\n",
        "    \"sigmoid\": nn.Sigmoid(),\n",
        "    \"relu\": nn.ReLU(),\n",
        "    \"softmax\": nn.Softmax(dim=1),\n",
        "    \"tanh\": nn.Tanh()\n",
        "}\n",
        "\n",
        "# Eksperimen Fungsi Aktivasi\n",
        "results_activation = []\n",
        "\n",
        "for activation_name, activation_fn in activation_functions.items():\n",
        "    model = MLPRegression(input_size=8, hidden_layers=2, neurons=8, activation_fn=activation_fn)\n",
        "    optimizer = optim.Adam(model.parameters(), lr=0.001)\n",
        "    train_loader = DataLoader(train_dataset, batch_size=32, shuffle=True)\n",
        "\n",
        "    # Latihan\n",
        "    model.train()\n",
        "    for epoch in range(50):\n",
        "        for batch_X, batch_Y in train_loader:\n",
        "            optimizer.zero_grad()\n",
        "            outputs = model(batch_X)\n",
        "            loss = criterion(outputs, batch_Y)\n",
        "            loss.backward()\n",
        "            optimizer.step()\n",
        "\n",
        "    # Evaluasi\n",
        "    model.eval()\n",
        "    with torch.no_grad():\n",
        "        predictions = model(X_test_tensor)\n",
        "        test_loss = criterion(predictions, Y_test_tensor).item()\n",
        "        results_activation.append({\"activation_function\": activation_name, \"test_loss\": test_loss})\n",
        "\n",
        "# Cetak hasil\n",
        "print(\"Hasil eksperimen fungsi aktivasi:\")\n",
        "for result in results_activation:\n",
        "    print(result)\n"
      ],
      "metadata": {
        "colab": {
          "base_uri": "https://localhost:8080/"
        },
        "id": "V29ZwkLNBhIF",
        "outputId": "a71ad41d-eaea-49c3-9d58-2de3014e46f7"
      },
      "execution_count": 14,
      "outputs": [
        {
          "output_type": "stream",
          "name": "stdout",
          "text": [
            "Hasil eksperimen fungsi aktivasi:\n",
            "{'activation_function': 'linear', 'test_loss': 14.724620819091797}\n",
            "{'activation_function': 'sigmoid', 'test_loss': 312.8377685546875}\n",
            "{'activation_function': 'relu', 'test_loss': 17.302885055541992}\n",
            "{'activation_function': 'softmax', 'test_loss': 572.2593994140625}\n",
            "{'activation_function': 'tanh', 'test_loss': 304.16571044921875}\n"
          ]
        }
      ]
    },
    {
      "cell_type": "code",
      "source": [
        "# Parameter eksperimen\n",
        "epoch_options = [1, 10, 25, 50, 100, 250]\n",
        "\n",
        "# Eksperimen Epoch\n",
        "results_epochs = []\n",
        "\n",
        "for epochs in epoch_options:\n",
        "    model = MLPRegression(input_size=8, hidden_layers=2, neurons=8, activation_fn=nn.ReLU())\n",
        "    optimizer = optim.Adam(model.parameters(), lr=0.001)\n",
        "    train_loader = DataLoader(train_dataset, batch_size=32, shuffle=True)\n",
        "\n",
        "    # Latihan\n",
        "    model.train()\n",
        "    for epoch in range(epochs):\n",
        "        for batch_X, batch_Y in train_loader:\n",
        "            optimizer.zero_grad()\n",
        "            outputs = model(batch_X)\n",
        "            loss = criterion(outputs, batch_Y)\n",
        "            loss.backward()\n",
        "            optimizer.step()\n",
        "\n",
        "    # Evaluasi\n",
        "    model.eval()\n",
        "    with torch.no_grad():\n",
        "        predictions = model(X_test_tensor)\n",
        "        test_loss = criterion(predictions, Y_test_tensor).item()\n",
        "        results_epochs.append({\"epochs\": epochs, \"test_loss\": test_loss})\n",
        "\n",
        "# Cetak hasil\n",
        "print(\"Hasil eksperimen jumlah epochs:\")\n",
        "for result in results_epochs:\n",
        "    print(result)\n"
      ],
      "metadata": {
        "colab": {
          "base_uri": "https://localhost:8080/"
        },
        "id": "sfPjUKfjCrKJ",
        "outputId": "badcda1f-024f-4d6e-8b20-8dbd113b07f6"
      },
      "execution_count": 16,
      "outputs": [
        {
          "output_type": "stream",
          "name": "stdout",
          "text": [
            "Hasil eksperimen jumlah epochs:\n",
            "{'epochs': 1, 'test_loss': 666.0958862304688}\n",
            "{'epochs': 10, 'test_loss': 340.1918640136719}\n",
            "{'epochs': 25, 'test_loss': 56.46638488769531}\n",
            "{'epochs': 50, 'test_loss': 15.718113899230957}\n",
            "{'epochs': 100, 'test_loss': 11.590465545654297}\n",
            "{'epochs': 250, 'test_loss': 11.636409759521484}\n"
          ]
        }
      ]
    },
    {
      "cell_type": "code",
      "source": [
        "# Parameter eksperimen\n",
        "lr_options = [10, 1, 0.1, 0.01, 0.001, 0.0001]\n",
        "\n",
        "# Eksperimen Learning Rate\n",
        "results_lr = []\n",
        "\n",
        "for lr in lr_options:\n",
        "    model = MLPRegression(input_size=8, hidden_layers=2, neurons=8, activation_fn=nn.ReLU())\n",
        "    optimizer = optim.Adam(model.parameters(), lr=lr)\n",
        "    train_loader = DataLoader(train_dataset, batch_size=32, shuffle=True)\n",
        "\n",
        "    # Latihan\n",
        "    model.train()\n",
        "    for epoch in range(50):\n",
        "        for batch_X, batch_Y in train_loader:\n",
        "            optimizer.zero_grad()\n",
        "            outputs = model(batch_X)\n",
        "            loss = criterion(outputs, batch_Y)\n",
        "            loss.backward()\n",
        "            optimizer.step()\n",
        "\n",
        "    # Evaluasi\n",
        "    model.eval()\n",
        "    with torch.no_grad():\n",
        "        predictions = model(X_test_tensor)\n",
        "        test_loss = criterion(predictions, Y_test_tensor).item()\n",
        "        results_lr.append({\"learning_rate\": lr, \"test_loss\": test_loss})\n",
        "\n",
        "# Cetak hasil\n",
        "print(\"Hasil eksperimen learning rate:\")\n",
        "for result in results_lr:\n",
        "    print(result)\n"
      ],
      "metadata": {
        "colab": {
          "base_uri": "https://localhost:8080/"
        },
        "id": "eXemvl2KC6qT",
        "outputId": "bf690af4-ba1e-4c62-f669-0fab45183295"
      },
      "execution_count": 17,
      "outputs": [
        {
          "output_type": "stream",
          "name": "stdout",
          "text": [
            "Hasil eksperimen learning rate:\n",
            "{'learning_rate': 10, 'test_loss': 98.9422836303711}\n",
            "{'learning_rate': 1, 'test_loss': 99.19324493408203}\n",
            "{'learning_rate': 0.1, 'test_loss': 9.822626113891602}\n",
            "{'learning_rate': 0.01, 'test_loss': 9.992133140563965}\n",
            "{'learning_rate': 0.001, 'test_loss': 12.942505836486816}\n",
            "{'learning_rate': 0.0001, 'test_loss': 602.1897583007812}\n"
          ]
        }
      ]
    },
    {
      "cell_type": "code",
      "source": [
        "# Parameter eksperimen\n",
        "batch_size_options = [16, 32, 64, 128, 256, 512]\n",
        "\n",
        "# Eksperimen Batch Size\n",
        "results_batch_size = []\n",
        "\n",
        "for batch_size in batch_size_options:\n",
        "    model = MLPRegression(input_size=8, hidden_layers=2, neurons=8, activation_fn=nn.ReLU())\n",
        "    optimizer = optim.Adam(model.parameters(), lr=0.001)\n",
        "    train_loader = DataLoader(train_dataset, batch_size=batch_size, shuffle=True)\n",
        "\n",
        "    # Latihan\n",
        "    model.train()\n",
        "    for epoch in range(50):\n",
        "        for batch_X, batch_Y in train_loader:\n",
        "            optimizer.zero_grad()\n",
        "            outputs = model(batch_X)\n",
        "            loss = criterion(outputs, batch_Y)\n",
        "            loss.backward()\n",
        "            optimizer.step()\n",
        "\n",
        "    # Evaluasi\n",
        "    model.eval()\n",
        "    with torch.no_grad():\n",
        "        predictions = model(X_test_tensor)\n",
        "        test_loss = criterion(predictions, Y_test_tensor).item()\n",
        "        results_batch_size.append({\"batch_size\": batch_size, \"test_loss\": test_loss})\n",
        "\n",
        "# Cetak hasil\n",
        "print(\"Hasil eksperimen batch size:\")\n",
        "for result in results_batch_size:\n",
        "    print(result)\n"
      ],
      "metadata": {
        "colab": {
          "base_uri": "https://localhost:8080/"
        },
        "id": "dfBgC31nC_Nf",
        "outputId": "6ee092d6-427c-4201-8f7d-4e29350359e1"
      },
      "execution_count": 18,
      "outputs": [
        {
          "output_type": "stream",
          "name": "stdout",
          "text": [
            "Hasil eksperimen batch size:\n",
            "{'batch_size': 16, 'test_loss': 14.060678482055664}\n",
            "{'batch_size': 32, 'test_loss': 13.798885345458984}\n",
            "{'batch_size': 64, 'test_loss': 48.44343566894531}\n",
            "{'batch_size': 128, 'test_loss': 340.23822021484375}\n",
            "{'batch_size': 256, 'test_loss': 591.6143188476562}\n",
            "{'batch_size': 512, 'test_loss': 628.1282348632812}\n"
          ]
        }
      ]
    },
    {
      "cell_type": "code",
      "source": [
        "# Cetak hasil\n",
        "print(\"Hasil eksperimen jumlah hidden layers:\")\n",
        "for result in results_hidden_layers:\n",
        "    print(result)\n",
        "\n",
        "# Cetak hasil\n",
        "print(\"\\nHasil eksperimen jumlah neurons:\")\n",
        "for result in results_neurons:\n",
        "    print(result)\n",
        "\n",
        "# Cetak hasil\n",
        "print(\"\\nHasil eksperimen fungsi aktivasi:\")\n",
        "for result in results_activation:\n",
        "    print(result)\n",
        "\n",
        "# Cetak hasil\n",
        "print(\"\\nHasil eksperimen jumlah epochs:\")\n",
        "for result in results_epochs:\n",
        "    print(result)\n",
        "\n",
        "# Cetak hasil\n",
        "print(\"\\nHasil eksperimen learning rate:\")\n",
        "for result in results_lr:\n",
        "    print(result)\n",
        "\n",
        "# Cetak hasil\n",
        "print(\"\\nHasil eksperimen batch size:\")\n",
        "for result in results_batch_size:\n",
        "    print(result)"
      ],
      "metadata": {
        "colab": {
          "base_uri": "https://localhost:8080/"
        },
        "id": "ngxawxuOHhAR",
        "outputId": "a65ca031-ea52-4a09-a537-6f69d572ca88"
      },
      "execution_count": 23,
      "outputs": [
        {
          "output_type": "stream",
          "name": "stdout",
          "text": [
            "Hasil eksperimen jumlah hidden layers:\n",
            "{'hidden_layers': 1, 'test_loss': 40.264373779296875}\n",
            "{'hidden_layers': 2, 'test_loss': 18.112119674682617}\n",
            "{'hidden_layers': 3, 'test_loss': 14.262744903564453}\n",
            "\n",
            "Hasil eksperimen jumlah neurons:\n",
            "{'neurons': 4, 'test_loss': 630.0354614257812}\n",
            "{'neurons': 8, 'test_loss': 13.341109275817871}\n",
            "{'neurons': 16, 'test_loss': 12.234487533569336}\n",
            "{'neurons': 32, 'test_loss': 11.397029876708984}\n",
            "{'neurons': 64, 'test_loss': 10.528437614440918}\n",
            "\n",
            "Hasil eksperimen fungsi aktivasi:\n",
            "{'activation_function': 'linear', 'test_loss': 14.724620819091797}\n",
            "{'activation_function': 'sigmoid', 'test_loss': 312.8377685546875}\n",
            "{'activation_function': 'relu', 'test_loss': 17.302885055541992}\n",
            "{'activation_function': 'softmax', 'test_loss': 572.2593994140625}\n",
            "{'activation_function': 'tanh', 'test_loss': 304.16571044921875}\n",
            "\n",
            "Hasil eksperimen jumlah epochs:\n",
            "{'epochs': 1, 'test_loss': 666.0958862304688}\n",
            "{'epochs': 10, 'test_loss': 340.1918640136719}\n",
            "{'epochs': 25, 'test_loss': 56.46638488769531}\n",
            "{'epochs': 50, 'test_loss': 15.718113899230957}\n",
            "{'epochs': 100, 'test_loss': 11.590465545654297}\n",
            "{'epochs': 250, 'test_loss': 11.636409759521484}\n",
            "\n",
            "Hasil eksperimen learning rate:\n",
            "{'learning_rate': 10, 'test_loss': 98.9422836303711}\n",
            "{'learning_rate': 1, 'test_loss': 99.19324493408203}\n",
            "{'learning_rate': 0.1, 'test_loss': 9.822626113891602}\n",
            "{'learning_rate': 0.01, 'test_loss': 9.992133140563965}\n",
            "{'learning_rate': 0.001, 'test_loss': 12.942505836486816}\n",
            "{'learning_rate': 0.0001, 'test_loss': 602.1897583007812}\n",
            "\n",
            "Hasil eksperimen batch size:\n",
            "{'batch_size': 16, 'test_loss': 14.060678482055664}\n",
            "{'batch_size': 32, 'test_loss': 13.798885345458984}\n",
            "{'batch_size': 64, 'test_loss': 48.44343566894531}\n",
            "{'batch_size': 128, 'test_loss': 340.23822021484375}\n",
            "{'batch_size': 256, 'test_loss': 591.6143188476562}\n",
            "{'batch_size': 512, 'test_loss': 628.1282348632812}\n"
          ]
        }
      ]
    },
    {
      "cell_type": "code",
      "source": [],
      "metadata": {
        "id": "P_daDTAPHwVv"
      },
      "execution_count": null,
      "outputs": []
    }
  ]
}